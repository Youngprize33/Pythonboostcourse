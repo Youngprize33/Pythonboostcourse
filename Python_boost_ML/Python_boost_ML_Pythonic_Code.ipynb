{
 "cells": [
  {
   "cell_type": "code",
   "execution_count": 1,
   "metadata": {},
   "outputs": [
    {
     "name": "stdout",
     "output_type": "stream",
     "text": [
      "abcde\n"
     ]
    }
   ],
   "source": [
    "# 일반 코드\n",
    "\n",
    "colors = [\"a\", \"b\", \"c\", \"d\", \"e\"]\n",
    "result = \"\"\n",
    "\n",
    "for s in colors:\n",
    "    result += s\n",
    "\n",
    "print(result)"
   ]
  },
  {
   "cell_type": "code",
   "execution_count": 2,
   "metadata": {},
   "outputs": [
    {
     "name": "stdout",
     "output_type": "stream",
     "text": [
      "redbluegreenyellow\n"
     ]
    }
   ],
   "source": [
    "# pythonic code\n",
    "\n",
    "colors = [\"red\", \"blue\", \"green\", \"yellow\"]\n",
    "result = \"\".join(colors)\n",
    "\n",
    "print(result)"
   ]
  },
  {
   "cell_type": "markdown",
   "metadata": {},
   "source": [
    "# Split 함수 <br>\n",
    "- String Type의 값을 나눠서 List 형태로 반환"
   ]
  },
  {
   "cell_type": "code",
   "execution_count": 9,
   "metadata": {},
   "outputs": [
    {
     "name": "stdout",
     "output_type": "stream",
     "text": [
      "['zero', 'one', 'two', 'three']\n"
     ]
    }
   ],
   "source": [
    "# 빈칸을 기준으로 문자열 나누기\n",
    "items = 'zero one two three'.split()\n",
    "\n",
    "print(items)"
   ]
  },
  {
   "cell_type": "code",
   "execution_count": 10,
   "metadata": {},
   "outputs": [
    {
     "name": "stdout",
     "output_type": "stream",
     "text": [
      "['python', 'jquery', 'javascript']\n"
     ]
    }
   ],
   "source": [
    "# \",\"을 기준으로 문자열 나누기\n",
    "example = 'python,jquery,javascript'\n",
    "\n",
    "print(example.split(\",\"))"
   ]
  },
  {
   "cell_type": "code",
   "execution_count": 11,
   "metadata": {},
   "outputs": [
    {
     "name": "stdout",
     "output_type": "stream",
     "text": [
      "python jquery javascript\n"
     ]
    }
   ],
   "source": [
    "# 리스트의 각 값을 a,b,c 변수로 unpacking\n",
    "example = 'python,jquery,javascript'\n",
    "\n",
    "a,b,c = example.split(\",\")\n",
    "print(a,b,c)"
   ]
  },
  {
   "cell_type": "code",
   "execution_count": 12,
   "metadata": {},
   "outputs": [
    {
     "name": "stdout",
     "output_type": "stream",
     "text": [
      "cs50 gachon edu\n"
     ]
    }
   ],
   "source": [
    "# \".\"을 기준으로 문자열 나누고 unpacking\n",
    "example = 'cs50.gachon.edu'\n",
    "\n",
    "subdomain, domain, tld = example.split(\".\")\n",
    "print(subdomain, domain, tld)"
   ]
  },
  {
   "cell_type": "markdown",
   "metadata": {},
   "source": [
    "# List Comprehension <br>\n",
    "* 기존 List 사용하여 간단히 다른 Listfmf 만드는 기법\n",
    "* 포괄적인 List, 포함되는 리스트라는 의미로 사용\n",
    "* 파이썬에서 가장 많이 사용되는 기법 중 하나\n",
    "* 일반적으로 for + append 보다 속도가 빠름"
   ]
  },
  {
   "cell_type": "code",
   "execution_count": 14,
   "metadata": {},
   "outputs": [
    {
     "name": "stdout",
     "output_type": "stream",
     "text": [
      "[0, 1, 2, 3, 4, 5, 6, 7, 8, 9]\n"
     ]
    }
   ],
   "source": [
    "# for loop + append 사용하기\n",
    "result = []\n",
    "\n",
    "for i in range(10):\n",
    "    result.append(i)\n",
    "    \n",
    "print(result)"
   ]
  },
  {
   "cell_type": "code",
   "execution_count": 16,
   "metadata": {},
   "outputs": [
    {
     "name": "stdout",
     "output_type": "stream",
     "text": [
      "[0, 1, 2, 3, 4, 5, 6, 7, 8, 9]\n",
      "[0, 2, 4, 6, 8]\n"
     ]
    }
   ],
   "source": [
    "# list Comprehension 사용하기\n",
    "result = [i for i in range(10)]\n",
    "print(result)\n",
    "\n",
    "# 필터 사용\n",
    "result = [i for i in range(10) if i % 2 == 0]\n",
    "print(result)"
   ]
  },
  {
   "cell_type": "code",
   "execution_count": 17,
   "metadata": {},
   "outputs": [
    {
     "name": "stdout",
     "output_type": "stream",
     "text": [
      "['HW', 'Ho', 'Hr', 'Hl', 'Hd', 'eW', 'eo', 'er', 'el', 'ed', 'lW', 'lo', 'lr', 'll', 'ld', 'lW', 'lo', 'lr', 'll', 'ld', 'oW', 'oo', 'or', 'ol', 'od']\n"
     ]
    }
   ],
   "source": [
    "# Nested For loop\n",
    "# 1차원 list가 탄생\n",
    "word_1 = \"Hello\"\n",
    "word_2 = \"World\"\n",
    "result = [i+j for i in word_1 for j in word_2]\n",
    "\n",
    "print(result)"
   ]
  },
  {
   "cell_type": "code",
   "execution_count": 18,
   "metadata": {},
   "outputs": [
    {
     "name": "stdout",
     "output_type": "stream",
     "text": [
      "['AD', 'AE', 'AA', 'BD', 'BE', 'BA', 'CD', 'CE', 'CA']\n",
      "['AD', 'AE', 'BA', 'BD', 'BE', 'CA', 'CD', 'CE']\n"
     ]
    }
   ],
   "source": [
    "# Nested For loop + if문\n",
    "case_1 = [\"A\",\"B\",\"C\"]\n",
    "case_2 = [\"D\",\"E\",\"A\"]\n",
    "\n",
    "result = [i+j for i in case_1 for j in case_2]\n",
    "print(result)\n",
    "\n",
    "# if문 추가\n",
    "# Filter : i와 j가 같다면 List에 추가하지 않음\n",
    "result = [i+j for i in case_1 for j in case_2 if not(i==j)]\n",
    "result.sort()\n",
    "\n",
    "print(result)"
   ]
  },
  {
   "cell_type": "code",
   "execution_count": 5,
   "metadata": {},
   "outputs": [
    {
     "name": "stdout",
     "output_type": "stream",
     "text": [
      "['The', 'quick', 'brown', 'fox', 'jumps', 'over', 'the', 'lazy', 'dog']\n",
      "['THE', 'the', 3]\n",
      "['QUICK', 'quick', 5]\n",
      "['BROWN', 'brown', 5]\n",
      "['FOX', 'fox', 3]\n",
      "['JUMPS', 'jumps', 5]\n",
      "['OVER', 'over', 4]\n",
      "['THE', 'the', 3]\n",
      "['LAZY', 'lazy', 4]\n",
      "['DOG', 'dog', 3]\n"
     ]
    }
   ],
   "source": [
    "# split + list Comprehension\n",
    "# 문장을 빈칸 기준으로 나눠 list로 변환\n",
    "words = 'The quick brown fox jumps over the lazy dog'.split()\n",
    "print(words)\n",
    "\n",
    "# list의 각 elemente들을 대문자, 소문자, 길이로 변환하여 \n",
    "# two dimensional list로 변환\n",
    "stuff = [[w.upper(), w.lower(), len(w)] for w in words]\n",
    "\n",
    "for i in stuff:\n",
    "    print(i)"
   ]
  },
  {
   "cell_type": "markdown",
   "metadata": {},
   "source": [
    "# Enumerate <br>\n",
    "* List의 element를 추출할 때 번호를 붙여서 추출"
   ]
  },
  {
   "cell_type": "code",
   "execution_count": 6,
   "metadata": {},
   "outputs": [
    {
     "name": "stdout",
     "output_type": "stream",
     "text": [
      "0 tic\n",
      "1 tac\n",
      "2 toe\n"
     ]
    }
   ],
   "source": [
    "# list의 있는 index와 값을 unpcking\n",
    "for i, v in enumerate(['tic','tac','toe']):\n",
    "    print(i, v)"
   ]
  },
  {
   "cell_type": "code",
   "execution_count": 8,
   "metadata": {},
   "outputs": [
    {
     "data": {
      "text/plain": [
       "[(0, 'a'), (1, 'b'), (2, 'c'), (3, 'd')]"
      ]
     },
     "execution_count": 8,
     "metadata": {},
     "output_type": "execute_result"
    }
   ],
   "source": [
    "# list에 있는 index와 값을 unpacking하여 list로 저장\n",
    "mylist = [\"a\",\"b\",\"c\",\"d\"]\n",
    "list(enumerate(mylist))"
   ]
  },
  {
   "cell_type": "code",
   "execution_count": 9,
   "metadata": {},
   "outputs": [
    {
     "data": {
      "text/plain": [
       "{0: 'Gachon',\n",
       " 1: 'University',\n",
       " 2: 'is',\n",
       " 3: 'an',\n",
       " 4: 'academic',\n",
       " 5: 'institute',\n",
       " 6: 'located',\n",
       " 7: 'in',\n",
       " 8: 'South',\n",
       " 9: 'Korea'}"
      ]
     },
     "execution_count": 9,
     "metadata": {},
     "output_type": "execute_result"
    }
   ],
   "source": [
    "# 문장을 lsit로 만들고 list의 index와 값을 unpacking하여 dict로 저장\n",
    "{i:j for i,j in enumerate('Gachon University is an academic institute located in South Korea'.split())}"
   ]
  },
  {
   "cell_type": "markdown",
   "metadata": {},
   "source": [
    "# Zip <br>\n",
    "* 두 개의 list의 값을 병렬적으로 추출함"
   ]
  },
  {
   "cell_type": "code",
   "execution_count": 11,
   "metadata": {},
   "outputs": [
    {
     "name": "stdout",
     "output_type": "stream",
     "text": [
      "a1 b1\n",
      "a2 b2\n",
      "a3 b3\n"
     ]
    }
   ],
   "source": [
    "# for loop + zip\n",
    "alist = ['a1','a2','a3']\n",
    "blist = ['b1','b2','b3']\n",
    "\n",
    "# 병렬적으로 값을 추출 (같은 인덱스를 붙임)\n",
    "for a, b in zip(alist, blist):\n",
    "    print(a, b)"
   ]
  },
  {
   "cell_type": "code",
   "execution_count": 12,
   "metadata": {},
   "outputs": [
    {
     "name": "stdout",
     "output_type": "stream",
     "text": [
      "(1, 10, 100) (2, 20, 200) (3, 30, 300)\n",
      "[111, 222, 333]\n"
     ]
    }
   ],
   "source": [
    "# list comprehension + zip\n",
    "# 각 tuple의 같은 inex 끼리 묶음\n",
    "a, b, c = zip((1,2,3), (10,20,30), (100,200,300))\n",
    "print(a, b, c)\n",
    "\n",
    "# 각 tuple을 같은 index를 묶어 합을 list로 변환\n",
    "print([sum(x) for x in zip((1,2,3), (10,20,30), (100,200,300))])"
   ]
  },
  {
   "cell_type": "code",
   "execution_count": 13,
   "metadata": {},
   "outputs": [
    {
     "name": "stdout",
     "output_type": "stream",
     "text": [
      "0 a1 b1\n",
      "1 a2 b2\n",
      "2 a3 b3\n"
     ]
    }
   ],
   "source": [
    "# enumerate + zip\n",
    "alist = ['a1', 'a2', 'a3']\n",
    "blist = ['b1', 'b2', 'b3']\n",
    "\n",
    "# index alist[index] blist[index] 표시\n",
    "for i, (a, b) in enumerate(zip(alist, blist)):\n",
    "    print(i, a, b)"
   ]
  },
  {
   "cell_type": "markdown",
   "metadata": {},
   "source": [
    "# Lambda <br>\n",
    "* 함수 이름 없이, 함수처럼 쓸 수 있는 익명함수\n",
    "* 수학의 람다 대수에서 유래\n",
    "* Python 3 부터는 권장하지는 않으나 여전히 많이 쓰임"
   ]
  },
  {
   "cell_type": "code",
   "execution_count": 14,
   "metadata": {},
   "outputs": [
    {
     "name": "stdout",
     "output_type": "stream",
     "text": [
      "5\n"
     ]
    }
   ],
   "source": [
    "# General function\n",
    "def f(x,y):\n",
    "    return x + y\n",
    "\n",
    "print(f(1,4))"
   ]
  },
  {
   "cell_type": "code",
   "execution_count": 15,
   "metadata": {},
   "outputs": [
    {
     "name": "stdout",
     "output_type": "stream",
     "text": [
      "5\n"
     ]
    }
   ],
   "source": [
    "# lambda function\n",
    "f = lambda x,y : x + y\n",
    "print(f(1,4)) "
   ]
  },
  {
   "cell_type": "code",
   "execution_count": 16,
   "metadata": {},
   "outputs": [
    {
     "name": "stdout",
     "output_type": "stream",
     "text": [
      "9\n"
     ]
    }
   ],
   "source": [
    "f = lambda x: x ** 2\n",
    "print(f(3))"
   ]
  },
  {
   "cell_type": "code",
   "execution_count": 17,
   "metadata": {},
   "outputs": [
    {
     "name": "stdout",
     "output_type": "stream",
     "text": [
      "1.5\n"
     ]
    }
   ],
   "source": [
    "f = lambda x: x / 2\n",
    "print(f(3))"
   ]
  },
  {
   "cell_type": "code",
   "execution_count": 19,
   "metadata": {},
   "outputs": [
    {
     "name": "stdout",
     "output_type": "stream",
     "text": [
      "6\n"
     ]
    }
   ],
   "source": [
    "print((lambda x: x + 1)(5))"
   ]
  },
  {
   "cell_type": "markdown",
   "metadata": {},
   "source": [
    "# Map funcion <br>\n",
    "* Sequence 자료형 (list,tuple) 각 element에 동일한 function을 적용함\n",
    "* Python 3 부터는 권장하지 않음 또한 list를 꼭 붙여줘야함"
   ]
  },
  {
   "cell_type": "code",
   "execution_count": 20,
   "metadata": {},
   "outputs": [
    {
     "name": "stdout",
     "output_type": "stream",
     "text": [
      "[1, 4, 9, 16, 25]\n"
     ]
    }
   ],
   "source": [
    "ex = [1, 2, 3, 4, 5]\n",
    "f = lambda x: x ** 2\n",
    "print(list(map(f, ex)))"
   ]
  },
  {
   "cell_type": "code",
   "execution_count": 21,
   "metadata": {},
   "outputs": [
    {
     "name": "stdout",
     "output_type": "stream",
     "text": [
      "[2, 4, 6, 8, 10]\n"
     ]
    }
   ],
   "source": [
    "ex = [1, 2, 3, 4, 5]\n",
    "f = lambda x, y: x + y\n",
    "print(list(map(f, ex, ex)))"
   ]
  },
  {
   "cell_type": "code",
   "execution_count": 22,
   "metadata": {},
   "outputs": [
    {
     "data": {
      "text/plain": [
       "[1, 4, 3, 16, 5]"
      ]
     },
     "execution_count": 22,
     "metadata": {},
     "output_type": "execute_result"
    }
   ],
   "source": [
    "list(map(\n",
    "    lambda x: x ** 2 if x % 2 == 0 else x,\n",
    "    ex))"
   ]
  },
  {
   "cell_type": "code",
   "execution_count": 23,
   "metadata": {},
   "outputs": [
    {
     "data": {
      "text/plain": [
       "[1, 4, 9, 16, 25]"
      ]
     },
     "execution_count": 23,
     "metadata": {},
     "output_type": "execute_result"
    }
   ],
   "source": [
    "# map 함수를 안쓰면? list comprehension 사용 가능\n",
    "[value ** 2 for value in ex]"
   ]
  },
  {
   "cell_type": "code",
   "execution_count": 25,
   "metadata": {},
   "outputs": [
    {
     "name": "stdout",
     "output_type": "stream",
     "text": [
      "[2, 4, 6, 8, 10]\n",
      "<map object at 0x000001B39C4DD670>\n"
     ]
    }
   ],
   "source": [
    "# list를 붙여야 함\n",
    "ex = [1,2,3,4,5]\n",
    "print(list(map(lambda x: x+x, ex)))\n",
    "print((map(lambda x: x+x, ex)))"
   ]
  },
  {
   "cell_type": "code",
   "execution_count": 27,
   "metadata": {},
   "outputs": [
    {
     "name": "stdout",
     "output_type": "stream",
     "text": [
      "<map object at 0x000001B39C51F280>\n",
      "1\n",
      "4\n",
      "9\n",
      "16\n",
      "25\n"
     ]
    }
   ],
   "source": [
    "# list가 없다면 for문\n",
    "f = lambda x: x ** 2\n",
    "print(map(f, ex))\n",
    "for i in map(f, ex):\n",
    "    print(i)"
   ]
  },
  {
   "cell_type": "markdown",
   "metadata": {},
   "source": [
    "# Reduce function <br>\n",
    "* map function과 달리 list에 똑같은 함수를 적용해서 통합"
   ]
  },
  {
   "cell_type": "code",
   "execution_count": 29,
   "metadata": {},
   "outputs": [
    {
     "name": "stdout",
     "output_type": "stream",
     "text": [
      "15\n"
     ]
    }
   ],
   "source": [
    "# Reduce\n",
    "# 각 원소들을 순차적으로 묶어서 더하는 셈\n",
    "from functools import reduce\n",
    "print(reduce(lambda x, y: x+y, [1,2,3,4,5]))"
   ]
  },
  {
   "cell_type": "code",
   "execution_count": 30,
   "metadata": {},
   "outputs": [
    {
     "data": {
      "text/plain": [
       "120"
      ]
     },
     "execution_count": 30,
     "metadata": {},
     "output_type": "execute_result"
    }
   ],
   "source": [
    "# 팩토리얼에서 적용\n",
    "def factorial(n):\n",
    "    return reduce(\n",
    "        lambda x, y: x*y, range(1, n+1))\n",
    "\n",
    "factorial(5)"
   ]
  },
  {
   "cell_type": "markdown",
   "metadata": {},
   "source": [
    "## Summary <br>\n",
    "* Lambda, map, reduce는 간단한 코드로 다양한 기능을 제공\n",
    "* 그러나 코드의 직관성이 떨어져서 lambda나 reduce는 python3에서 사용 권장 X\n",
    "* Legacy library나 다양한 머신러닝 코드에서 여전히 사용중"
   ]
  },
  {
   "cell_type": "markdown",
   "metadata": {},
   "source": [
    "# Asterisk <br>\n",
    "* 흔히 알고 있는 *를 의미\n",
    "* 단순 곱셈, 제곱연산, 가변 인자 활용 등 다양하게 사용"
   ]
  },
  {
   "cell_type": "code",
   "execution_count": 3,
   "metadata": {},
   "outputs": [
    {
     "name": "stdout",
     "output_type": "stream",
     "text": [
      "1 (2, 3, 4, 5, 6)\n",
      "<class 'tuple'>\n"
     ]
    }
   ],
   "source": [
    "# *args\n",
    "# 1이 a에 할당되고 나머지는 args에 튜플 형태로 할당\n",
    "# 한 번에 여러 개의 변수를 넘겨주기 (가변인자)\n",
    "def asterisk_test(a, *args):\n",
    "    print(a, args)\n",
    "    print(type(args))\n",
    "\n",
    "asterisk_test(1,2,3,4,5,6)"
   ]
  },
  {
   "cell_type": "code",
   "execution_count": 4,
   "metadata": {},
   "outputs": [
    {
     "name": "stdout",
     "output_type": "stream",
     "text": [
      "1 {'b': 2, 'c': 3, 'd': 4, 'e': 5, 'f': 6}\n",
      "<class 'dict'>\n"
     ]
    }
   ],
   "source": [
    "# **kargs\n",
    "# 키워드 연자\n",
    "# dictionary 타입으로 kargs에 들어감\n",
    "def asterisk_test(a, **kargs):\n",
    "    print(a, kargs)\n",
    "    print(type(kargs))\n",
    "\n",
    "asterisk_test(1, b=2, c=3, d=4, e=5, f=6)"
   ]
  },
  {
   "cell_type": "markdown",
   "metadata": {},
   "source": [
    "## Asterisk - unpacking a container <br>\n",
    "* tuple, dict 등 자료형에 들어가 있는 값을 unpacking\n",
    "* 함수의 입력값, zip 등에 유용하게 사용가능"
   ]
  },
  {
   "cell_type": "code",
   "execution_count": 6,
   "metadata": {},
   "outputs": [
    {
     "name": "stdout",
     "output_type": "stream",
     "text": [
      "1 (2, 3, 4, 5, 6)\n",
      "<class 'tuple'>\n"
     ]
    }
   ],
   "source": [
    "# 튜플 타입으로 한 개의 값으로 args에 들어간 걸 생각\n",
    "def asterisk_test(a, *args):\n",
    "    print(a, args[0])\n",
    "    print(type(args))\n",
    "    \n",
    "asterisk_test(1, (2,3,4,5,6))"
   ]
  },
  {
   "cell_type": "code",
   "execution_count": 7,
   "metadata": {},
   "outputs": [
    {
     "name": "stdout",
     "output_type": "stream",
     "text": [
      "1 2 3 4 5 6\n",
      "<class 'tuple'>\n"
     ]
    }
   ],
   "source": [
    "# 풀어서 던져주는 법\n",
    "def asterisk_test(a, args):\n",
    "    print(a, *args)\n",
    "    print(type(args))\n",
    "\n",
    "asterisk_test(1, (2,3,4,5,6))"
   ]
  },
  {
   "cell_type": "code",
   "execution_count": 8,
   "metadata": {},
   "outputs": [
    {
     "name": "stdout",
     "output_type": "stream",
     "text": [
      "[1.2] [3, 4] [5, 6]\n",
      "[1, 2] [3, 4] [5, 6]\n"
     ]
    }
   ],
   "source": [
    "# 3개의 element가 들어있는 1개의 튜플\n",
    "a,b,c = ([1.2], [3,4], [5,6])\n",
    "print(a,b,c)\n",
    "\n",
    "# 한 번에 unpacking\n",
    "data = ([1,2], [3,4], [5,6])\n",
    "print(*data)"
   ]
  },
  {
   "cell_type": "code",
   "execution_count": 9,
   "metadata": {},
   "outputs": [
    {
     "name": "stdout",
     "output_type": "stream",
     "text": [
      "10 1 2 3\n"
     ]
    }
   ],
   "source": [
    "# dictionary unpacking\n",
    "def asterisk_test(a,b,c,d,):\n",
    "    print(a,b,c,d)\n",
    "\n",
    "data = {\"b\":1, \"c\":2, \"d\":3}\n",
    "asterisk_test(10, **data)"
   ]
  },
  {
   "cell_type": "code",
   "execution_count": 10,
   "metadata": {},
   "outputs": [
    {
     "name": "stdout",
     "output_type": "stream",
     "text": [
      "(1, 3, 5)\n",
      "(2, 4, 6)\n"
     ]
    }
   ],
   "source": [
    "# 반복문과 zip 이용\n",
    "for data in zip(*([1,2],[3,4],[5,6])):\n",
    "    print(data)"
   ]
  },
  {
   "cell_type": "markdown",
   "metadata": {},
   "source": [
    "# Collections | 참고자료 <br>\n",
    "* python은 자료구조에 대한 모듈들을 Collections로 제공\n",
    "* List, Tuple, Dict에 대한 Python Built-in 확장 자료 구조(모듈)\n",
    "* 편의성, 실행 효율 등을 사용자에게 제공\n",
    "* 아래의 모듈이 존재\n",
    "<br>\n",
    "from collections import deque<br>\n",
    "from collections import Counter<br>\n",
    "from collections import OrderedDict<br>\n",
    "from collections import defaultdict<br>\n",
    "from collections import namedtuple"
   ]
  },
  {
   "cell_type": "markdown",
   "metadata": {},
   "source": [
    "## deque<br>\n",
    "* Stack과 Queue 를 지원하는 모듈\n",
    "* List에 비해 효율적인 자료 저장 방식을 지원"
   ]
  },
  {
   "cell_type": "code",
   "execution_count": 15,
   "metadata": {},
   "outputs": [
    {
     "name": "stdout",
     "output_type": "stream",
     "text": [
      "deque([0, 1, 2, 3, 4])\n",
      "deque([10, 0, 1, 2, 3, 4])\n"
     ]
    }
   ],
   "source": [
    "from collections import deque\n",
    "\n",
    "deque_list = deque()\n",
    "for i in range(5):\n",
    "    deque_list.append(i)\n",
    "print(deque_list)\n",
    "\n",
    "deque_list.appendleft(10)\n",
    "print(deque_list)"
   ]
  },
  {
   "cell_type": "markdown",
   "metadata": {},
   "source": [
    "* rotate, reverse 등 Linked List의 특성을 지원\n",
    "* 기존 list 형태의 함수를 모두 지원"
   ]
  },
  {
   "cell_type": "code",
   "execution_count": 16,
   "metadata": {},
   "outputs": [
    {
     "name": "stdout",
     "output_type": "stream",
     "text": [
      "deque([3, 4, 10, 0, 1, 2])\n",
      "deque([1, 2, 3, 4, 10, 0])\n",
      "deque([1, 2, 3, 4, 10, 0])\n",
      "deque([0, 10, 4, 3, 2, 1])\n",
      "deque([1, 2, 3, 4, 10, 0, 5, 6, 7])\n",
      "deque([7, 6, 5, 1, 2, 3, 4, 10, 0, 5, 6, 7])\n"
     ]
    }
   ],
   "source": [
    "deque_list.rotate(2)\n",
    "print(deque_list)\n",
    "deque_list.rotate(2)\n",
    "print(deque_list)\n",
    "\n",
    "print(deque_list)\n",
    "print(deque(reversed(deque_list)))\n",
    "\n",
    "deque_list.extend([5, 6, 7])\n",
    "print(deque_list)\n",
    "\n",
    "deque_list.extendleft([5, 6, 7])\n",
    "print(deque_list)"
   ]
  },
  {
   "cell_type": "markdown",
   "metadata": {},
   "source": [
    "* deque 는 기존 list보다 효율적인 자료구조를 제공\n",
    "* 효율적인 메모리 구조로 처리 속도 향상"
   ]
  },
  {
   "cell_type": "code",
   "execution_count": 26,
   "metadata": {},
   "outputs": [
    {
     "name": "stdout",
     "output_type": "stream",
     "text": [
      "15.453125 seconds\n"
     ]
    }
   ],
   "source": [
    "# deque\n",
    "from collections import deque\n",
    "import time\n",
    "\n",
    "start_time = time.process_time()\n",
    "deque_list = deque()\n",
    "# Stack\n",
    "for i in range(10000):\n",
    "    for i in range(10000):\n",
    "        deque_list.append(i)\n",
    "        deque_list.pop()\n",
    "print(time.process_time() - start_time, \"seconds\")"
   ]
  },
  {
   "cell_type": "code",
   "execution_count": 28,
   "metadata": {},
   "outputs": [
    {
     "name": "stdout",
     "output_type": "stream",
     "text": [
      "39.1875 seconds\n"
     ]
    }
   ],
   "source": [
    "# general list\n",
    "import time\n",
    "\n",
    "start_time = time.process_time()\n",
    "just_list = []\n",
    "for i in range(10000):\n",
    "    for i in range(10000):\n",
    "        just_list.append(i)\n",
    "        just_list.pop()\n",
    "print(time.process_time() - start_time, \"seconds\")"
   ]
  },
  {
   "cell_type": "code",
   "execution_count": 23,
   "metadata": {},
   "outputs": [
    {
     "data": {
      "text/plain": [
       "['_STRUCT_TM_ITEMS',\n",
       " '__doc__',\n",
       " '__loader__',\n",
       " '__name__',\n",
       " '__package__',\n",
       " '__spec__',\n",
       " 'altzone',\n",
       " 'asctime',\n",
       " 'ctime',\n",
       " 'daylight',\n",
       " 'get_clock_info',\n",
       " 'gmtime',\n",
       " 'localtime',\n",
       " 'mktime',\n",
       " 'monotonic',\n",
       " 'monotonic_ns',\n",
       " 'perf_counter',\n",
       " 'perf_counter_ns',\n",
       " 'process_time',\n",
       " 'process_time_ns',\n",
       " 'sleep',\n",
       " 'strftime',\n",
       " 'strptime',\n",
       " 'struct_time',\n",
       " 'thread_time',\n",
       " 'thread_time_ns',\n",
       " 'time',\n",
       " 'time_ns',\n",
       " 'timezone',\n",
       " 'tzname']"
      ]
     },
     "execution_count": 23,
     "metadata": {},
     "output_type": "execute_result"
    }
   ],
   "source": [
    "import time\n",
    "dir(time)"
   ]
  },
  {
   "cell_type": "markdown",
   "metadata": {},
   "source": [
    "## Ordered Dict<br>\n",
    "* Dict와 달리, 데이터를 입력한 순서대로 dict를 반환"
   ]
  },
  {
   "cell_type": "code",
   "execution_count": 30,
   "metadata": {},
   "outputs": [
    {
     "name": "stdout",
     "output_type": "stream",
     "text": [
      "x 100\n",
      "y 200\n",
      "z 300\n",
      "l 500\n",
      "x 100\n",
      "y 200\n",
      "z 300\n",
      "l 500\n"
     ]
    }
   ],
   "source": [
    "from collections import OrderedDict\n",
    "\n",
    "d = {}\n",
    "d['x'] = 100\n",
    "d['y'] = 200\n",
    "d['z'] = 300\n",
    "d['l'] = 500\n",
    "\n",
    "for k, v in d.items():\n",
    "    print(k, v)\n",
    "\n",
    "\n",
    "d = OrderedDict()\n",
    "d['x'] = 100\n",
    "d['y'] = 200\n",
    "d['z'] = 300\n",
    "d['l'] = 500\n",
    "\n",
    "for k, v in d.items():\n",
    "    print(k, v)"
   ]
  },
  {
   "cell_type": "markdown",
   "metadata": {},
   "source": [
    "* Dict type의 값을, value 또는 key 값으로 정렬할 때 사용 가능"
   ]
  },
  {
   "cell_type": "code",
   "execution_count": 31,
   "metadata": {},
   "outputs": [
    {
     "name": "stdout",
     "output_type": "stream",
     "text": [
      "l 500\n",
      "x 100\n",
      "y 200\n",
      "z 300\n",
      "l 500\n",
      "z 300\n",
      "y 200\n",
      "x 100\n"
     ]
    }
   ],
   "source": [
    "for k, v in OrderedDict(sorted(d.items(), key=lambda t: t[0])).items():\n",
    "    print(k, v)\n",
    "\n",
    "for k, v in OrderedDict(sorted(d.items(),\n",
    "                        reverse=True, key=lambda t: t[1])).items():\n",
    "    print(k, v)"
   ]
  },
  {
   "cell_type": "markdown",
   "metadata": {},
   "source": [
    "### defaultdict <br>\n",
    "* Dict type의 값에 기본 값을 지정, 신규값 생성시 사용하는 방법"
   ]
  },
  {
   "cell_type": "code",
   "execution_count": 39,
   "metadata": {},
   "outputs": [
    {
     "ename": "KeyError",
     "evalue": "'first'",
     "output_type": "error",
     "traceback": [
      "\u001b[1;31m---------------------------------------------------------------------------\u001b[0m",
      "\u001b[1;31mKeyError\u001b[0m                                  Traceback (most recent call last)",
      "\u001b[1;32m<ipython-input-39-bfa774f17933>\u001b[0m in \u001b[0;36m<module>\u001b[1;34m\u001b[0m\n\u001b[0;32m      4\u001b[0m \u001b[1;31m# 오류\u001b[0m\u001b[1;33m\u001b[0m\u001b[1;33m\u001b[0m\u001b[1;33m\u001b[0m\u001b[0m\n\u001b[0;32m      5\u001b[0m \u001b[0md\u001b[0m \u001b[1;33m=\u001b[0m \u001b[0mdict\u001b[0m\u001b[1;33m(\u001b[0m\u001b[1;33m)\u001b[0m\u001b[1;33m\u001b[0m\u001b[1;33m\u001b[0m\u001b[0m\n\u001b[1;32m----> 6\u001b[1;33m \u001b[0mprint\u001b[0m\u001b[1;33m(\u001b[0m\u001b[0md\u001b[0m\u001b[1;33m[\u001b[0m\u001b[1;34m\"first\"\u001b[0m\u001b[1;33m]\u001b[0m\u001b[1;33m)\u001b[0m\u001b[1;33m\u001b[0m\u001b[1;33m\u001b[0m\u001b[0m\n\u001b[0m\u001b[0;32m      7\u001b[0m \u001b[1;33m\u001b[0m\u001b[0m\n\u001b[0;32m      8\u001b[0m \u001b[1;31m# Reference from\u001b[0m\u001b[1;33m\u001b[0m\u001b[1;33m\u001b[0m\u001b[1;33m\u001b[0m\u001b[0m\n",
      "\u001b[1;31mKeyError\u001b[0m: 'first'"
     ]
    }
   ],
   "source": [
    "from collections import defaultdict\n",
    "from collections import OrderedDict\n",
    "\n",
    "# 오류\n",
    "d = dict()\n",
    "print(d[\"first\"])\n",
    "\n",
    "# Reference from\n",
    "# https://dongyeopblog.wordpress.com/2016/04/08/python-defaultdict-%EC%82%AC%EC%9A%A9%ED%95%98%EA%B8%B0/\n",
    "\n",
    "d = defaultdict(object)     # Default dictionary를 생성\n",
    "d = defaultdict(lambda: 1)  # Default 값을 0으로 설정합\n",
    "print(d[\"first\"])"
   ]
  },
  {
   "cell_type": "code",
   "execution_count": 37,
   "metadata": {},
   "outputs": [
    {
     "name": "stdout",
     "output_type": "stream",
     "text": [
      "{'a': 11, 'press': 7, 'release': 7, 'is': 1, 'the': 8, 'quickest': 0, 'and': 8, 'easiest': 0, 'way': 1, 'to': 9, 'get': 0, 'free': 0, 'publicity.': 0, 'if': 1, 'well': 0, 'written,': 0, 'can': 1, 'result': 0, 'in': 2, 'multiple': 0, 'published': 0, 'articles': 0, 'about': 1, 'your': 3, 'firm': 2, 'its': 0, 'products.': 0, 'that': 6, 'mean': 0, 'new': 1, 'prospects': 1, 'contacting': 0, 'you': 2, 'asking': 0, 'sell': 0, 'them.': 0, 'talk': 0, 'low-hanging': 0, 'fruit!': 0, \"what's\": 0, 'more,': 0, 'releases': 2, 'are': 2, 'cost': 0, 'effective.': 0, 'results': 0, 'an': 1, 'article': 1, '(for': 0, 'instance)': 0, 'appears': 0, 'recommend': 0, 'or': 0, 'product,': 0, 'more': 1, 'likely': 0, 'drive': 0, 'contact': 0, 'than': 0, 'comparable': 0, 'paid': 0, 'advertisement.': 0, 'however,': 0, 'most': 1, 'never': 0, 'accomplish': 0, 'that.': 0, 'just': 0, 'spray': 0, 'pray.': 0, 'nobody': 0, 'reads': 0, 'them,': 0, 'least': 0, 'of': 4, 'all': 2, 'reporters': 0, 'editors': 0, 'for': 1, 'whom': 0, \"they're\": 0, 'intended.': 0, 'worst': 0, 'case,': 0, 'badly-written': 0, 'simply': 1, 'makes': 0, 'look': 0, 'clueless': 0, 'stupid.': 0, 'example,': 0, 'while': 0, 'back': 0, 'i': 2, 'received': 0, 'containing': 0, 'following': 0, 'sentence:': 0, '\"release': 0, '6.0': 1, 'doubles': 0, 'level': 0, 'functionality': 0, 'available,': 0, 'providing': 0, 'organizations': 0, 'sizes': 0, 'with': 0, 'fast-to-deploy,': 0, 'highly': 0, 'robust,': 0, 'easy-to-use': 0, 'solution': 0, 'better': 0, 'acquire,': 0, 'retain,': 0, 'serve': 0, 'customers.\"': 0, 'translation:': 0, '\"the': 0, 'does': 0, 'stuff.\"': 0, 'why': 0, 'extra': 0, 'verbiage?': 0, 'as': 1, 'explained': 0, 'post': 0, '\"why': 0, 'marketers': 0, 'speak': 0, 'biz': 0, 'blab\",': 0, 'bs': 0, 'words': 0, 'try': 0, 'make': 0, 'something': 0, 'unimportant': 0, 'seem': 0, 'important.': 1, 'and,': 0, \"let's\": 0, 'face': 0, 'it,': 0, 'product': 0, 'probably': 0, \"isn't\": 0, 'reporter,': 0, 'my': 0, 'immediate': 0, 'response': 0, 'was': 1, \"it's\": 0, 'not': 0, 'important': 0, 'because': 0, 'it': 0, 'expended': 0, 'entire': 0, 'sentence': 0, 'saying': 0, 'absolutely': 0, 'nothing.': 0, 'assumed': 0, '(probably': 0, 'rightly)': 0, \"company's\": 0, 'marketing': 0, 'team': 0, 'bunch': 0, 'idiots.': 0}\n"
     ]
    }
   ],
   "source": [
    "text = \"\"\"A press release is the quickest and easiest way to get free publicity. If well written, a press release can result in multiple published articles about your firm and its products. And that can mean new prospects contacting you asking you to sell to them. Talk about low-hanging fruit!\n",
    "What's more, press releases are cost effective. If the release results in an article that (for instance) appears to recommend your firm or your product, that article is more likely to drive prospects to contact you than a comparable paid advertisement.\n",
    "However, most press releases never accomplish that. Most press releases are just spray and pray. Nobody reads them, least of all the reporters and editors for whom they're intended. Worst case, a badly-written press release simply makes your firm look clueless and stupid.\n",
    "For example, a while back I received a press release containing the following sentence: \"Release 6.0 doubles the level of functionality available, providing organizations of all sizes with a fast-to-deploy, highly robust, and easy-to-use solution to better acquire, retain, and serve customers.\"\n",
    "Translation: \"The new release does more stuff.\" Why the extra verbiage? As I explained in the post \"Why Marketers Speak Biz Blab\", the BS words are simply a way to try to make something unimportant seem important. And, let's face it, a 6.0 release of a product probably isn't all that important.\n",
    "As a reporter, my immediate response to that press release was that it's not important because it expended an entire sentence saying absolutely nothing. And I assumed (probably rightly) that the company's marketing team was a bunch of idiots.\"\"\".lower().split()\n",
    "\n",
    "# print(text)\n",
    "\n",
    "word_count = {}\n",
    "for word in text:\n",
    "    if word in word_count.keys():\n",
    "        word_count[word] += 1\n",
    "    else:\n",
    "        word_count[word] = 0\n",
    "print(word_count)"
   ]
  },
  {
   "cell_type": "code",
   "execution_count": 38,
   "metadata": {},
   "outputs": [
    {
     "name": "stdout",
     "output_type": "stream",
     "text": [
      "a 12\n",
      "to 10\n",
      "the 9\n",
      "and 9\n",
      "press 8\n",
      "release 8\n",
      "that 7\n",
      "of 5\n",
      "your 4\n",
      "in 3\n",
      "firm 3\n",
      "you 3\n",
      "releases 3\n",
      "are 3\n",
      "all 3\n",
      "i 3\n",
      "is 2\n",
      "way 2\n",
      "if 2\n",
      "can 2\n",
      "about 2\n",
      "new 2\n",
      "prospects 2\n",
      "an 2\n",
      "article 2\n",
      "more 2\n",
      "most 2\n",
      "for 2\n",
      "simply 2\n",
      "6.0 2\n",
      "as 2\n",
      "important. 2\n",
      "was 2\n",
      "quickest 1\n",
      "easiest 1\n",
      "get 1\n",
      "free 1\n",
      "publicity. 1\n",
      "well 1\n",
      "written, 1\n",
      "result 1\n",
      "multiple 1\n",
      "published 1\n",
      "articles 1\n",
      "its 1\n",
      "products. 1\n",
      "mean 1\n",
      "contacting 1\n",
      "asking 1\n",
      "sell 1\n",
      "them. 1\n",
      "talk 1\n",
      "low-hanging 1\n",
      "fruit! 1\n",
      "what's 1\n",
      "more, 1\n",
      "cost 1\n",
      "effective. 1\n",
      "results 1\n",
      "(for 1\n",
      "instance) 1\n",
      "appears 1\n",
      "recommend 1\n",
      "or 1\n",
      "product, 1\n",
      "likely 1\n",
      "drive 1\n",
      "contact 1\n",
      "than 1\n",
      "comparable 1\n",
      "paid 1\n",
      "advertisement. 1\n",
      "however, 1\n",
      "never 1\n",
      "accomplish 1\n",
      "that. 1\n",
      "just 1\n",
      "spray 1\n",
      "pray. 1\n",
      "nobody 1\n",
      "reads 1\n",
      "them, 1\n",
      "least 1\n",
      "reporters 1\n",
      "editors 1\n",
      "whom 1\n",
      "they're 1\n",
      "intended. 1\n",
      "worst 1\n",
      "case, 1\n",
      "badly-written 1\n",
      "makes 1\n",
      "look 1\n",
      "clueless 1\n",
      "stupid. 1\n",
      "example, 1\n",
      "while 1\n",
      "back 1\n",
      "received 1\n",
      "containing 1\n",
      "following 1\n",
      "sentence: 1\n",
      "\"release 1\n",
      "doubles 1\n",
      "level 1\n",
      "functionality 1\n",
      "available, 1\n",
      "providing 1\n",
      "organizations 1\n",
      "sizes 1\n",
      "with 1\n",
      "fast-to-deploy, 1\n",
      "highly 1\n",
      "robust, 1\n",
      "easy-to-use 1\n",
      "solution 1\n",
      "better 1\n",
      "acquire, 1\n",
      "retain, 1\n",
      "serve 1\n",
      "customers.\" 1\n",
      "translation: 1\n",
      "\"the 1\n",
      "does 1\n",
      "stuff.\" 1\n",
      "why 1\n",
      "extra 1\n",
      "verbiage? 1\n",
      "explained 1\n",
      "post 1\n",
      "\"why 1\n",
      "marketers 1\n",
      "speak 1\n",
      "biz 1\n",
      "blab\", 1\n",
      "bs 1\n",
      "words 1\n",
      "try 1\n",
      "make 1\n",
      "something 1\n",
      "unimportant 1\n",
      "seem 1\n",
      "and, 1\n",
      "let's 1\n",
      "face 1\n",
      "it, 1\n",
      "product 1\n",
      "probably 1\n",
      "isn't 1\n",
      "reporter, 1\n",
      "my 1\n",
      "immediate 1\n",
      "response 1\n",
      "it's 1\n",
      "not 1\n",
      "important 1\n",
      "because 1\n",
      "it 1\n",
      "expended 1\n",
      "entire 1\n",
      "sentence 1\n",
      "saying 1\n",
      "absolutely 1\n",
      "nothing. 1\n",
      "assumed 1\n",
      "(probably 1\n",
      "rightly) 1\n",
      "company's 1\n",
      "marketing 1\n",
      "team 1\n",
      "bunch 1\n",
      "idiots. 1\n"
     ]
    }
   ],
   "source": [
    "word_count = defaultdict(object)     # Default dictionary를 생성\n",
    "word_count = defaultdict(lambda: 0)  # Default 값을 0으로 설정합\n",
    "for word in text:\n",
    "    word_count[word] += 1\n",
    "for i, v in OrderedDict(sorted(\n",
    "        word_count.items(), key=lambda t: t[1], reverse=True)).items():\n",
    "    print(i, v)"
   ]
  },
  {
   "cell_type": "markdown",
   "metadata": {},
   "source": [
    "## Counter <br>\n",
    "* Sequence type의 data element들의 갯수를 dict 형태로 반환"
   ]
  },
  {
   "cell_type": "code",
   "execution_count": 40,
   "metadata": {},
   "outputs": [
    {
     "name": "stdout",
     "output_type": "stream",
     "text": [
      "Counter({'a': 3, 'l': 2, 'g': 1, 'h': 1, 'd': 1})\n"
     ]
    }
   ],
   "source": [
    "from collections import Counter\n",
    "\n",
    "c = Counter()                           # a new, empty counter\n",
    "c = Counter('gallahad')                 # a new counter from an iterable\n",
    "print(c)"
   ]
  },
  {
   "cell_type": "markdown",
   "metadata": {},
   "source": [
    "* Dict type, keyword parameter 등도 모두 처리 가능"
   ]
  },
  {
   "cell_type": "code",
   "execution_count": 41,
   "metadata": {},
   "outputs": [
    {
     "name": "stdout",
     "output_type": "stream",
     "text": [
      "Counter({'red': 4, 'blue': 2})\n",
      "['red', 'red', 'red', 'red', 'blue', 'blue']\n",
      "Counter({'dogs': 8, 'cats': 4})\n",
      "['cats', 'cats', 'cats', 'cats', 'dogs', 'dogs', 'dogs', 'dogs', 'dogs', 'dogs', 'dogs', 'dogs']\n"
     ]
    }
   ],
   "source": [
    "c = Counter({'red': 4, 'blue': 2})      # a new counter from a mapping\n",
    "print(c)\n",
    "print(list(c.elements()))\n",
    "\n",
    "c = Counter(cats=4, dogs=8)             # a new counter from keyword args\n",
    "print(c)\n",
    "print(list(c.elements()))"
   ]
  },
  {
   "cell_type": "code",
   "execution_count": 42,
   "metadata": {},
   "outputs": [
    {
     "name": "stdout",
     "output_type": "stream",
     "text": [
      "Counter({'a': 3, 'b': 0, 'c': -3, 'd': -6})\n",
      "Counter({'a': 5, 'b': 4, 'c': 3, 'd': 2})\n",
      "Counter({'b': 2, 'a': 1})\n",
      "Counter({'a': 4, 'd': 4, 'c': 3, 'b': 2})\n",
      "Counter({'a': 12, 'to': 10, 'the': 9, 'and': 9, 'press': 8, 'release': 8, 'that': 7, 'of': 5, 'your': 4, 'in': 3, 'firm': 3, 'you': 3, 'releases': 3, 'are': 3, 'all': 3, 'i': 3, 'is': 2, 'way': 2, 'if': 2, 'can': 2, 'about': 2, 'new': 2, 'prospects': 2, 'an': 2, 'article': 2, 'more': 2, 'most': 2, 'for': 2, 'simply': 2, '6.0': 2, 'as': 2, 'important.': 2, 'was': 2, 'quickest': 1, 'easiest': 1, 'get': 1, 'free': 1, 'publicity.': 1, 'well': 1, 'written,': 1, 'result': 1, 'multiple': 1, 'published': 1, 'articles': 1, 'its': 1, 'products.': 1, 'mean': 1, 'contacting': 1, 'asking': 1, 'sell': 1, 'them.': 1, 'talk': 1, 'low-hanging': 1, 'fruit!': 1, \"what's\": 1, 'more,': 1, 'cost': 1, 'effective.': 1, 'results': 1, '(for': 1, 'instance)': 1, 'appears': 1, 'recommend': 1, 'or': 1, 'product,': 1, 'likely': 1, 'drive': 1, 'contact': 1, 'than': 1, 'comparable': 1, 'paid': 1, 'advertisement.': 1, 'however,': 1, 'never': 1, 'accomplish': 1, 'that.': 1, 'just': 1, 'spray': 1, 'pray.': 1, 'nobody': 1, 'reads': 1, 'them,': 1, 'least': 1, 'reporters': 1, 'editors': 1, 'whom': 1, \"they're\": 1, 'intended.': 1, 'worst': 1, 'case,': 1, 'badly-written': 1, 'makes': 1, 'look': 1, 'clueless': 1, 'stupid.': 1, 'example,': 1, 'while': 1, 'back': 1, 'received': 1, 'containing': 1, 'following': 1, 'sentence:': 1, '\"release': 1, 'doubles': 1, 'level': 1, 'functionality': 1, 'available,': 1, 'providing': 1, 'organizations': 1, 'sizes': 1, 'with': 1, 'fast-to-deploy,': 1, 'highly': 1, 'robust,': 1, 'easy-to-use': 1, 'solution': 1, 'better': 1, 'acquire,': 1, 'retain,': 1, 'serve': 1, 'customers.\"': 1, 'translation:': 1, '\"the': 1, 'does': 1, 'stuff.\"': 1, 'why': 1, 'extra': 1, 'verbiage?': 1, 'explained': 1, 'post': 1, '\"why': 1, 'marketers': 1, 'speak': 1, 'biz': 1, 'blab\",': 1, 'bs': 1, 'words': 1, 'try': 1, 'make': 1, 'something': 1, 'unimportant': 1, 'seem': 1, 'and,': 1, \"let's\": 1, 'face': 1, 'it,': 1, 'product': 1, 'probably': 1, \"isn't\": 1, 'reporter,': 1, 'my': 1, 'immediate': 1, 'response': 1, \"it's\": 1, 'not': 1, 'important': 1, 'because': 1, 'it': 1, 'expended': 1, 'entire': 1, 'sentence': 1, 'saying': 1, 'absolutely': 1, 'nothing.': 1, 'assumed': 1, '(probably': 1, 'rightly)': 1, \"company's\": 1, 'marketing': 1, 'team': 1, 'bunch': 1, 'idiots.': 1})\n",
      "12\n"
     ]
    }
   ],
   "source": [
    "c = Counter(a=4, b=2, c=0, d=-2)\n",
    "d = Counter(a=1, b=2, c=3, d=4)\n",
    "c.subtract(d)  # c- d\n",
    "print(c)\n",
    "\n",
    "c = Counter(a=4, b=2, c=0, d=-2)\n",
    "d = Counter(a=1, b=2, c=3, d=4)\n",
    "print(c + d)\n",
    "print(c & d)\n",
    "print(c | d)\n",
    "\n",
    "text = \"\"\"A press release is the quickest and easiest way to get free publicity. If well written, a press release can result in multiple published articles about your firm and its products. And that can mean new prospects contacting you asking you to sell to them. Talk about low-hanging fruit!\n",
    "What's more, press releases are cost effective. If the release results in an article that (for instance) appears to recommend your firm or your product, that article is more likely to drive prospects to contact you than a comparable paid advertisement.\n",
    "However, most press releases never accomplish that. Most press releases are just spray and pray. Nobody reads them, least of all the reporters and editors for whom they're intended. Worst case, a badly-written press release simply makes your firm look clueless and stupid.\n",
    "For example, a while back I received a press release containing the following sentence: \"Release 6.0 doubles the level of functionality available, providing organizations of all sizes with a fast-to-deploy, highly robust, and easy-to-use solution to better acquire, retain, and serve customers.\"\n",
    "Translation: \"The new release does more stuff.\" Why the extra verbiage? As I explained in the post \"Why Marketers Speak Biz Blab\", the BS words are simply a way to try to make something unimportant seem important. And, let's face it, a 6.0 release of a product probably isn't all that important.\n",
    "As a reporter, my immediate response to that press release was that it's not important because it expended an entire sentence saying absolutely nothing. And I assumed (probably rightly) that the company's marketing team was a bunch of idiots.\"\"\".lower().split()\n",
    "print(Counter(text))\n",
    "print(Counter(text)[\"a\"])"
   ]
  },
  {
   "cell_type": "markdown",
   "metadata": {},
   "source": [
    "## namedtuple <br>\n",
    "* tuple 형태로 Data 구조체를 저장하는 방법\n",
    "* 저장되는 data의 variable을 사전에 지정해서 저장함"
   ]
  },
  {
   "cell_type": "code",
   "execution_count": 43,
   "metadata": {},
   "outputs": [
    {
     "name": "stdout",
     "output_type": "stream",
     "text": [
      "33\n",
      "11 22\n",
      "33\n",
      "Point(x=11, y=22)\n"
     ]
    }
   ],
   "source": [
    "from collections import namedtuple\n",
    "\n",
    "# Basic example\n",
    "Point = namedtuple('Point', ['x', 'y'])\n",
    "p = Point(11, y=22)\n",
    "print(p[0] + p[1])\n",
    "\n",
    "x, y = p\n",
    "print(x, y)\n",
    "print(p.x + p.y)\n",
    "print(Point(x=11, y=22))"
   ]
  },
  {
   "cell_type": "code",
   "execution_count": null,
   "metadata": {},
   "outputs": [],
   "source": []
  }
 ],
 "metadata": {
  "kernelspec": {
   "display_name": "Python 3",
   "language": "python",
   "name": "python3"
  },
  "language_info": {
   "codemirror_mode": {
    "name": "ipython",
    "version": 3
   },
   "file_extension": ".py",
   "mimetype": "text/x-python",
   "name": "python",
   "nbconvert_exporter": "python",
   "pygments_lexer": "ipython3",
   "version": "3.8.3"
  },
  "toc": {
   "base_numbering": 1,
   "nav_menu": {},
   "number_sections": true,
   "sideBar": true,
   "skip_h1_title": false,
   "title_cell": "Table of Contents",
   "title_sidebar": "Contents",
   "toc_cell": false,
   "toc_position": {},
   "toc_section_display": true,
   "toc_window_display": false
  },
  "varInspector": {
   "cols": {
    "lenName": 16,
    "lenType": 16,
    "lenVar": 40
   },
   "kernels_config": {
    "python": {
     "delete_cmd_postfix": "",
     "delete_cmd_prefix": "del ",
     "library": "var_list.py",
     "varRefreshCmd": "print(var_dic_list())"
    },
    "r": {
     "delete_cmd_postfix": ") ",
     "delete_cmd_prefix": "rm(",
     "library": "var_list.r",
     "varRefreshCmd": "cat(var_dic_list()) "
    }
   },
   "types_to_exclude": [
    "module",
    "function",
    "builtin_function_or_method",
    "instance",
    "_Feature"
   ],
   "window_display": false
  }
 },
 "nbformat": 4,
 "nbformat_minor": 4
}
