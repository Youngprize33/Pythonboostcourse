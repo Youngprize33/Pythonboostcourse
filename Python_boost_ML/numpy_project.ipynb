{
 "cells": [
  {
   "cell_type": "code",
   "execution_count": 12,
   "metadata": {},
   "outputs": [],
   "source": [
    "import numpy as np"
   ]
  },
  {
   "cell_type": "markdown",
   "metadata": {},
   "source": [
    "## n_size_ndarray_creation <br>\n",
    "* 함수목적 <br> \n",
    "n의 제곱수로 2 dimentional array를 생성하는 ndarray. <br>\n",
    "* Args <br> \n",
    "n: 생성하고자 하는 ndarray의 row와 column의 개수 <br>\n",
    "dtype: 생성하려는 ndarray의 data type (np.int) <br>\n",
    "* Returns <br> \n",
    "row와 column의 길이가 n인 two dimentional ndarray로 X[0,0]은 0으로 순차적으로 X[n-1,n-1]은 n^2-1이 할당됨"
   ]
  },
  {
   "cell_type": "code",
   "execution_count": 13,
   "metadata": {},
   "outputs": [
    {
     "data": {
      "text/plain": [
       "array([[0, 1, 2],\n",
       "       [3, 4, 5],\n",
       "       [6, 7, 8]])"
      ]
     },
     "execution_count": 13,
     "metadata": {},
     "output_type": "execute_result"
    }
   ],
   "source": [
    "n = 3\n",
    "np.arange(n**2).reshape(n,n)"
   ]
  },
  {
   "cell_type": "code",
   "execution_count": 24,
   "metadata": {},
   "outputs": [],
   "source": [
    "def n_size_ndarray_creation(n, dtype=np.int):\n",
    "    return np.array(range(n**2), dtype=dtype).reshape(n,n)"
   ]
  },
  {
   "cell_type": "code",
   "execution_count": 26,
   "metadata": {},
   "outputs": [
    {
     "data": {
      "text/plain": [
       "array([[0, 1, 2],\n",
       "       [3, 4, 5],\n",
       "       [6, 7, 8]])"
      ]
     },
     "execution_count": 26,
     "metadata": {},
     "output_type": "execute_result"
    }
   ],
   "source": [
    "n_size_ndarray_creation(3)"
   ]
  },
  {
   "cell_type": "markdown",
   "metadata": {},
   "source": [
    "## zero_or_one_or_empty_ndarray <br>\n",
    "* 함수목적 <br>\n",
    "shape이 지정된 크기의 ndarray를 생성, 이때 행렬의 element는 type에 따라 0, 1 또는 empty로 생성됨.\n",
    "* Args <br>\n",
    "shape: 생성할려는 ndarray의 shape <br> \n",
    "type: 생성되는 element들의 값을 지정함 0은 0, 1은 1, 99는 empty 타입으로 생성됨 <br>\n",
    "dtype: 생성하려는 ndarray의 data type (np.int)\n",
    "* Returns <br>\n",
    "shape의 크기로 생성된 ndarray로 type에 따라 element의 내용이 변경됨"
   ]
  },
  {
   "cell_type": "code",
   "execution_count": 29,
   "metadata": {},
   "outputs": [],
   "source": [
    "def zero_or_one_or_empty_ndarray(shape, type=0, dtype=np.int):\n",
    "    if type == 0:\n",
    "        return np.zeros(shape=shape, dtype=dtype)\n",
    "    if type == 1:\n",
    "        return np.ones(shape=shape, dtype=dtype)\n",
    "    if type == 99:\n",
    "        return np.empty(shape=shape, dtype=dtype)"
   ]
  },
  {
   "cell_type": "code",
   "execution_count": 34,
   "metadata": {},
   "outputs": [
    {
     "data": {
      "text/plain": [
       "array([[1, 1, 1],\n",
       "       [1, 1, 1],\n",
       "       [1, 1, 1]])"
      ]
     },
     "execution_count": 34,
     "metadata": {},
     "output_type": "execute_result"
    }
   ],
   "source": [
    "zero_or_one_or_empty_ndarray((3,3),1)"
   ]
  },
  {
   "cell_type": "markdown",
   "metadata": {},
   "source": [
    "## change_shape_of_ndarray <br>\n",
    "* 함수목적 <br>\n",
    "입력된 ndarray X를 n_row의 값을 row의 개수로 지정한 matrix를 반환함. <br>\n",
    "이때 입력하는 X의 size는 2의 거듭제곱수로 전제함. <br>\n",
    "만약 n_row과 1일 때는 matrix가 아닌 vector로 반환함. <br>\n",
    "* Args <br> \n",
    "X: 입력하는 ndarray <br>\n",
    "n_row: 생성할려는 matrix의 row의 개수 \n",
    "* Returns <br>\n",
    "row의 개수가 n_row인 Matrix 또는 Vector <br>\n",
    "n_row가 1이면 Vector 값으로 반환함"
   ]
  },
  {
   "cell_type": "code",
   "execution_count": 36,
   "metadata": {},
   "outputs": [
    {
     "data": {
      "text/plain": [
       "array([1, 1, 1, ..., 1, 1, 1])"
      ]
     },
     "execution_count": 36,
     "metadata": {},
     "output_type": "execute_result"
    }
   ],
   "source": [
    "def change_shape_of_ndarray(X, n_row):\n",
    "    return X.flatten() if n_row==1 else X.reshape(n_row, -1) # -1은 데이터 사이즈에 남은 부분 column선정\n",
    "\n",
    "X = np.ones((32,32), dtype=np.int)\n",
    "change_shape_of_ndarray(X,1)"
   ]
  },
  {
   "cell_type": "markdown",
   "metadata": {},
   "source": [
    "## concat_ndarray <br>\n",
    "* 함수목적 <br>\n",
    "입력된 ndarray X_1과 X_2를 axis로 입력된 축을 기준으로 통합하여 반환하는 함수 <br>\n",
    "X_1과 X_2는 matrix 또는 vector 임, 그러므로 vector 일 경우도 처리할 수 가 있어야 함 <br>\n",
    "axis를 기준으로 통합할 때, 통합이 불가능하면 False가 반환됨. <br>\n",
    "단 X_1과 X_2 Matrix, Vector 형태로 들어왔다면, Vector를 row가 1개인 Matrix로 변환하여 통합이 가능한지 확인할 것\n",
    "* Args <br>\n",
    "X_1: 입력하는 ndarray <br>\n",
    "X_2: 입력하는 ndarray <br>\n",
    "axis: 통합의 기준이 되는 축 0 또는 1임 <br>\n",
    "* Returns <br>\n",
    "X_1과 X_2과 통합된 matrix 타입의 ndarray"
   ]
  },
  {
   "cell_type": "code",
   "execution_count": 38,
   "metadata": {},
   "outputs": [
    {
     "data": {
      "text/plain": [
       "False"
      ]
     },
     "execution_count": 38,
     "metadata": {},
     "output_type": "execute_result"
    }
   ],
   "source": [
    "def concat_ndarray(X_1, X_2, axis):\n",
    "    try:\n",
    "        if X_1.ndim == 1:\n",
    "            X_1 = X_1.reshape(1, -1)\n",
    "        if X_2.ndim == 1:\n",
    "            X_2 = X_2.reshape(1, -1)\n",
    "        return np.concatenate((X_1, X_2), axis=axis)\n",
    "    except ValueError as e:\n",
    "        return False\n",
    "\n",
    "a = np.array([[1,2], [3,4]])\n",
    "b = np.array([[5,6]])\n",
    "concat_ndarray(a, b, 1) "
   ]
  },
  {
   "cell_type": "markdown",
   "metadata": {},
   "source": [
    "## nomalize_ndarray <br>\n",
    "* 함수목적 <br>\n",
    "입력된 Matrix 또는 Vector를 ndarray X의 정규화된 값으로 변환하여 반환함 <br>\n",
    "이때 정규화 변환 공식 Z = (X - X의평균) / X의 표준편차로 구성됨. <br>\n",
    "X의 평균과 표준편차는 axis를 기준으로 axis 별로 산출됨. <br>\n",
    "Matrix의 경우 axis가 0 또는 1일 경우, row 또는 column별로 Z value를 산출함. <br>\n",
    "axis가 99일 경우 전체 값에 대한 normalize 값을 구함.<br> \n",
    "* Args <br>\n",
    "X: 입력하는 ndarray, <br>\n",
    "axis: normalize를 구하는 기준이 되는 축으로 0, 1 또는 99임, 단 99는 axis 구분 없이 전체값으로 평균과 표준편차를 구함 <br>\n",
    "dtype: data type으로 np.float32로 구정 <br>\n",
    "* Returns <Br> \n",
    "정규화된 ndarray"
   ]
  },
  {
   "cell_type": "code",
   "execution_count": 40,
   "metadata": {},
   "outputs": [
    {
     "data": {
      "text/plain": [
       "array([[-1.2247448,  0.       ,  1.2247448],\n",
       "       [-1.2247448,  0.       ,  1.2247448],\n",
       "       [-1.2247448,  0.       ,  1.2247448],\n",
       "       [-1.2247448,  0.       ,  1.2247448]], dtype=float32)"
      ]
     },
     "execution_count": 40,
     "metadata": {},
     "output_type": "execute_result"
    }
   ],
   "source": [
    "def normalize_ndarray(X, axis=99, dtype=np.float32):\n",
    "    X = X.astype(np.float32)\n",
    "    n_row, n_column = X.shape # 원소를 tuple 형태로 뽑아냄\n",
    "    if axis == 99:\n",
    "        x_mean = np.mean(X)\n",
    "        x_str = np.std(X)\n",
    "        Z = (X - x_mean) / x_std\n",
    "    if axis == 0:\n",
    "        x_mean = np.mean(X, 0).reshape(1, -1)\n",
    "        x_std = np.std(X, 0).reshape(1, -1)\n",
    "        Z = (X - x_mean) / x_std\n",
    "    if axis == 1:\n",
    "        x_mean = np.mean(X, 1).reshape(n_row, -1)\n",
    "        x_std = np.std(X, 1).reshape(n_row, -1)\n",
    "        Z = (X - x_mean) / x_std\n",
    "    return Z\n",
    "\n",
    "\n",
    "X = np.arange(12, dtype=np.float32).reshape(4,3)\n",
    "normalize_ndarray(X,1)"
   ]
  },
  {
   "cell_type": "markdown",
   "metadata": {},
   "source": [
    "## save_ndarray <Br>\n",
    "* 함수목적 <br>\n",
    "입력된 ndarray X를 argument filename으로 저장함 <br>\n",
    "* Args <br>\n",
    "X: 입력하는 ndarray <br>\n",
    "filename: 저장할려는 파일이름"
   ]
  },
  {
   "cell_type": "code",
   "execution_count": 41,
   "metadata": {},
   "outputs": [],
   "source": [
    "def save_ndarray(X, filename=\"test.npy\"):\n",
    "    file_test = open(filename, \"wb\")\n",
    "    np.save(X, file_test) # pickle 형태로 저장됨"
   ]
  },
  {
   "cell_type": "markdown",
   "metadata": {},
   "source": [
    "## boolean_index <br>\n",
    "* 함수목적 <br>\n",
    "입력된 ndarray X를 String type의 condition 정보를 바탕으로 해당 컨디션에 해당하는 ndarray X의 index 번호를 반환함<br>\n",
    "단 이때, str type의 조건인 condition을 코드로 변환하기 위해서는 eval(str(\"X\") + condition)를 사용할 수 있음 <br>\n",
    "* Args <br>\n",
    "X: 입력하는 ndarray <br>\n",
    "condition: string type의 조건 (\">3\", \"== 5\", \"< 15\") <br>\n",
    "* Returns <br> \n",
    "조건에 만족하는 ndarray X의 index"
   ]
  },
  {
   "cell_type": "code",
   "execution_count": 42,
   "metadata": {},
   "outputs": [
    {
     "data": {
      "text/plain": [
       "(array([ 7,  8,  9, 10, 11, 12, 13, 14, 15, 16, 17, 18, 19, 20, 21, 22, 23,\n",
       "        24, 25, 26, 27, 28, 29, 30, 31], dtype=int64),)"
      ]
     },
     "execution_count": 42,
     "metadata": {},
     "output_type": "execute_result"
    }
   ],
   "source": [
    "def boolean_index(X, condition):\n",
    "    condition = eval(str(\"X\") + condition)\n",
    "    return np.where(condition)\n",
    "\n",
    "X = np.arange(32, dtype=np.float32)\n",
    "boolean_index(X, \">6\")"
   ]
  },
  {
   "cell_type": "code",
   "execution_count": 43,
   "metadata": {},
   "outputs": [
    {
     "data": {
      "text/plain": [
       "(array([ 7,  8,  9, 10, 11, 12, 13, 14, 15, 16, 17, 18, 19, 20, 21, 22, 23,\n",
       "        24, 25, 26, 27, 28, 29, 30, 31], dtype=int64),)"
      ]
     },
     "execution_count": 43,
     "metadata": {},
     "output_type": "execute_result"
    }
   ],
   "source": [
    "np.where(X>6) # 이거 기억해야해"
   ]
  },
  {
   "cell_type": "markdown",
   "metadata": {},
   "source": [
    "## find_nearest_value <br> \n",
    "* 함수목적 <br> \n",
    "입력된 vector type의 ndarray X에서 target_value와 가장 차이가 작게나는 element를 찾아 리턴함 <br>\n",
    "이때 X를 list로 변경하여 처리하는 것은 실패로 간주함. <br>\n",
    "* Args <Br>\n",
    "X: 입력하는 vector type의 ndarray <br>\n",
    "target_value : 가장 유사한 값의 기준값이 되는 값 <br>\n",
    "* Returns <br>\n",
    "target_value와 가장 유사한 값"
   ]
  },
  {
   "cell_type": "code",
   "execution_count": 59,
   "metadata": {},
   "outputs": [
    {
     "name": "stdout",
     "output_type": "stream",
     "text": [
      "[0.028512   0.87739807 0.81780059 0.08319128 0.31670749]\n",
      "[0.271488   0.57739807 0.51780059 0.21680872 0.01670749]\n"
     ]
    }
   ],
   "source": [
    "def find_nearest_value(X, target_value):\n",
    "    return X[np.argmin(np.abs(X-target_value))]\n",
    "\n",
    "X = np.random.uniform(0, 1, 5)\n",
    "target_value = 0.3\n",
    "print(X)\n",
    "print(np.abs(X-target_value))"
   ]
  },
  {
   "cell_type": "code",
   "execution_count": 60,
   "metadata": {},
   "outputs": [
    {
     "data": {
      "text/plain": [
       "0.3167074946621192"
      ]
     },
     "execution_count": 60,
     "metadata": {},
     "output_type": "execute_result"
    }
   ],
   "source": [
    "find_nearest_value(X, target_value)"
   ]
  },
  {
   "cell_type": "markdown",
   "metadata": {},
   "source": [
    "## get_n_largest_values\n",
    "* 함수목적 <br>\n",
    "입력된 vector type의 ndarray X에서 큰 숫자 순서대로 n개의 값을 반환함. <br>\n",
    "* Args <br>\n",
    "X: vector type의 ndarray <br>\n",
    "n: 반환할려는 element의 개수 <Br>\n",
    "* Returns <br> \n",
    "ndarray X의 element중 큰 숫자 순서대로 n개 값이 반환됨 ndarray"
   ]
  },
  {
   "cell_type": "code",
   "execution_count": 66,
   "metadata": {},
   "outputs": [
    {
     "name": "stdout",
     "output_type": "stream",
     "text": [
      "[0.52154563 0.88029869 0.32256404 0.73000316 0.1614031 ]\n",
      "[4 2 0 3 1]\n"
     ]
    },
    {
     "data": {
      "text/plain": [
       "array([0.52154563, 0.32256404, 0.1614031 ])"
      ]
     },
     "execution_count": 66,
     "metadata": {},
     "output_type": "execute_result"
    }
   ],
   "source": [
    "def get_n_largest_values(X, n):\n",
    "    return X[np.argsort(X[::-1])[:n]]\n",
    "\n",
    "X = np.random.uniform(0, 1, 5)\n",
    "print(X)\n",
    "print(np.argsort(X)) # 작은 값으로 sorting, ::-1은 역순(큰값부터) sorting\n",
    "get_n_largest_values(X,3)"
   ]
  },
  {
   "cell_type": "code",
   "execution_count": null,
   "metadata": {},
   "outputs": [],
   "source": []
  }
 ],
 "metadata": {
  "kernelspec": {
   "display_name": "Python 3",
   "language": "python",
   "name": "python3"
  },
  "language_info": {
   "codemirror_mode": {
    "name": "ipython",
    "version": 3
   },
   "file_extension": ".py",
   "mimetype": "text/x-python",
   "name": "python",
   "nbconvert_exporter": "python",
   "pygments_lexer": "ipython3",
   "version": "3.8.3"
  },
  "toc": {
   "base_numbering": 1,
   "nav_menu": {},
   "number_sections": true,
   "sideBar": true,
   "skip_h1_title": false,
   "title_cell": "Table of Contents",
   "title_sidebar": "Contents",
   "toc_cell": false,
   "toc_position": {},
   "toc_section_display": true,
   "toc_window_display": false
  },
  "varInspector": {
   "cols": {
    "lenName": 16,
    "lenType": 16,
    "lenVar": 40
   },
   "kernels_config": {
    "python": {
     "delete_cmd_postfix": "",
     "delete_cmd_prefix": "del ",
     "library": "var_list.py",
     "varRefreshCmd": "print(var_dic_list())"
    },
    "r": {
     "delete_cmd_postfix": ") ",
     "delete_cmd_prefix": "rm(",
     "library": "var_list.r",
     "varRefreshCmd": "cat(var_dic_list()) "
    }
   },
   "types_to_exclude": [
    "module",
    "function",
    "builtin_function_or_method",
    "instance",
    "_Feature"
   ],
   "window_display": false
  }
 },
 "nbformat": 4,
 "nbformat_minor": 4
}
